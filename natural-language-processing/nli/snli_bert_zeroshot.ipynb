{
 "cells": [
  {
   "cell_type": "markdown",
   "metadata": {},
   "source": [
    "# RTE (Recognizing Textual Entailment) with transformers\n",
    "## Using a pretrained transformer fine-tuned on MNLI for zero-shot text classification on SNLI"
   ]
  },
  {
   "cell_type": "markdown",
   "metadata": {},
   "source": [
    "## Setup"
   ]
  },
  {
   "cell_type": "code",
   "execution_count": 21,
   "metadata": {},
   "outputs": [],
   "source": [
    "# !pip install transformers\n",
    "# !pip install torch\n",
    "# !pip install sentence_transformers"
   ]
  },
  {
   "cell_type": "code",
   "execution_count": 12,
   "metadata": {},
   "outputs": [
    {
     "name": "stdout",
     "output_type": "stream",
     "text": [
      "['entailment', 'neutral', 'contradiction']\n"
     ]
    }
   ],
   "source": [
    "LABELS = ['entailment', 'neutral', 'contradiction']\n",
    "print(LABELS)"
   ]
  },
  {
   "cell_type": "markdown",
   "metadata": {},
   "source": [
    "## Load and preprocess SNLI dataset"
   ]
  },
  {
   "cell_type": "code",
   "execution_count": 2,
   "metadata": {},
   "outputs": [
    {
     "name": "stderr",
     "output_type": "stream",
     "text": [
      "Reusing dataset snli (/home/ec2-user/.cache/huggingface/datasets/snli/plain_text/1.0.0/1f60b67533b65ae0275561ff7828aad5ee4282d0e6f844fd148d05d3c6ea251b)\n"
     ]
    },
    {
     "data": {
      "application/vnd.jupyter.widget-view+json": {
       "model_id": "17f1bc22bc464f41a13253023bfec1cc",
       "version_major": 2,
       "version_minor": 0
      },
      "text/plain": [
       "  0%|          | 0/3 [00:00<?, ?it/s]"
      ]
     },
     "metadata": {},
     "output_type": "display_data"
    },
    {
     "data": {
      "text/plain": [
       "DatasetDict({\n",
       "    test: Dataset({\n",
       "        features: ['premise', 'hypothesis', 'label'],\n",
       "        num_rows: 10000\n",
       "    })\n",
       "    train: Dataset({\n",
       "        features: ['premise', 'hypothesis', 'label'],\n",
       "        num_rows: 550152\n",
       "    })\n",
       "    validation: Dataset({\n",
       "        features: ['premise', 'hypothesis', 'label'],\n",
       "        num_rows: 10000\n",
       "    })\n",
       "})"
      ]
     },
     "execution_count": 2,
     "metadata": {},
     "output_type": "execute_result"
    }
   ],
   "source": [
    "from datasets import load_dataset\n",
    "from torch.utils.data import DataLoader\n",
    "\n",
    "\n",
    "dataset = load_dataset('snli')\n",
    "dataset\n"
   ]
  },
  {
   "cell_type": "code",
   "execution_count": 3,
   "metadata": {},
   "outputs": [
    {
     "name": "stdout",
     "output_type": "stream",
     "text": [
      "Test label distribution:\n",
      " 0    3368\n",
      " 2    3237\n",
      " 1    3219\n",
      "-1     176\n",
      "Name: label, dtype: int64\n",
      "Train label distribution:\n",
      " 0    183416\n",
      " 2    183187\n",
      " 1    182764\n",
      "-1       785\n",
      "Name: label, dtype: int64\n",
      "Validation label distribution:\n",
      " 0    3329\n",
      " 2    3278\n",
      " 1    3235\n",
      "-1     158\n",
      "Name: label, dtype: int64\n"
     ]
    }
   ],
   "source": [
    "for key in dataset.keys():\n",
    "    df = dataset[key].to_pandas()\n",
    "    print(f'{key.capitalize()} label distribution:')\n",
    "    print(df.label.value_counts())"
   ]
  },
  {
   "cell_type": "code",
   "execution_count": 5,
   "metadata": {},
   "outputs": [
    {
     "name": "stderr",
     "output_type": "stream",
     "text": [
      "Loading cached processed dataset at /home/ec2-user/.cache/huggingface/datasets/snli/plain_text/1.0.0/1f60b67533b65ae0275561ff7828aad5ee4282d0e6f844fd148d05d3c6ea251b/cache-69cfe6f5138230bc.arrow\n",
      "Loading cached processed dataset at /home/ec2-user/.cache/huggingface/datasets/snli/plain_text/1.0.0/1f60b67533b65ae0275561ff7828aad5ee4282d0e6f844fd148d05d3c6ea251b/cache-cdd6af5a251d99d5.arrow\n",
      "Loading cached processed dataset at /home/ec2-user/.cache/huggingface/datasets/snli/plain_text/1.0.0/1f60b67533b65ae0275561ff7828aad5ee4282d0e6f844fd148d05d3c6ea251b/cache-1cdec3ecad3c0af4.arrow\n"
     ]
    }
   ],
   "source": [
    "dataset = dataset.filter(lambda example: example['label'] != -1)"
   ]
  },
  {
   "cell_type": "markdown",
   "metadata": {},
   "source": [
    "## Build inference pipeline"
   ]
  },
  {
   "cell_type": "code",
   "execution_count": 59,
   "metadata": {},
   "outputs": [],
   "source": [
    "# import numpy as np\n",
    "# from sentence_transformers import CrossEncoder\n",
    "\n",
    "\n",
    "# def model_fn():\n",
    "#     return CrossEncoder('cross-encoder/nli-distilroberta-base')\n",
    "\n",
    "# def predict_fn(batch, model):\n",
    "#     tuples = [(p, h) for p, h in zip(batch['premise'], batch['hypothesis'])]\n",
    "#     model = CrossEncoder('cross-encoder/nli-distilroberta-base')\n",
    "#     return model.predict(tuples).argmax(axis=1)\n",
    "\n",
    "# def output_fn(preds):\n",
    "#     label_mapping = ['contradiction', 'entailment', 'neutral']\n",
    "#     labels = [label_mapping[score_max].upper() for score_max in preds]\n",
    "#     return np.array(labels)"
   ]
  },
  {
   "cell_type": "code",
   "execution_count": 6,
   "metadata": {},
   "outputs": [],
   "source": [
    "import numpy as np\n",
    "from transformers import AutoModelForSequenceClassification, AutoTokenizer, pipeline\n",
    "\n",
    "# HUB_MODEL_CKPT = 'microsoft/deberta-base-mnli'\n",
    "HUB_MODEL_CKPT = 'huggingface/distilbert-base-uncased-finetuned-mnli'\n",
    "\n",
    "def _pack_item(pair):\n",
    "    return f\"{pair[0]} [SEP] {pair[1]}\"\n",
    "\n",
    "def model_fn():\n",
    "    tokenizer = AutoTokenizer.from_pretrained(HUB_MODEL_CKPT)\n",
    "    model = AutoModelForSequenceClassification.from_pretrained(HUB_MODEL_CKPT)\n",
    "    return pipeline(task='text-classification', model=model, tokenizer=tokenizer)\n",
    "\n",
    "def predict_fn(batch, model):\n",
    "    premise_list = batch['premise']\n",
    "    hypothesis_list = batch['hypothesis']\n",
    "    sentences = [_pack_item(pair) for pair in zip(premise_list, hypothesis_list)]\n",
    "    return model(sentences)\n",
    "\n",
    "def output_fn(preds):\n",
    "    return np.array([d['label'] for d in preds])"
   ]
  },
  {
   "cell_type": "code",
   "execution_count": 7,
   "metadata": {},
   "outputs": [],
   "source": [
    "model = model_fn()"
   ]
  },
  {
   "cell_type": "code",
   "execution_count": 52,
   "metadata": {},
   "outputs": [],
   "source": [
    "# import random\n",
    "\n",
    "\n",
    "# item = dataset['test'].__getitem__(random.randint(0, 100))\n",
    "# item['label'] = LABELS[item['label']].upper()\n",
    "# print(item)\n",
    "\n",
    "# model(f\"{item['premise']} [SEP] {item['hypothesis']}\")\n"
   ]
  },
  {
   "cell_type": "code",
   "execution_count": 8,
   "metadata": {},
   "outputs": [
    {
     "name": "stdout",
     "output_type": "stream",
     "text": [
      "{'premise': ['This church choir sings to the masses as they sing joyous songs from the book at a church.', 'This church choir sings to the masses as they sing joyous songs from the book at a church.', 'This church choir sings to the masses as they sing joyous songs from the book at a church.'], 'hypothesis': ['The church has cracks in the ceiling.', 'The church is filled with song.', 'A choir singing at a baseball game.'], 'label': tensor([1, 0, 2])}\n",
      "[{'label': 'contradiction', 'score': 0.790027916431427}, {'label': 'entailment', 'score': 0.9256806969642639}, {'label': 'contradiction', 'score': 0.9379742741584778}]\n"
     ]
    },
    {
     "data": {
      "text/plain": [
       "array(['contradiction', 'entailment', 'contradiction'], dtype='<U13')"
      ]
     },
     "execution_count": 8,
     "metadata": {},
     "output_type": "execute_result"
    }
   ],
   "source": [
    "tmp_dataloader = DataLoader(dataset['test'], shuffle=False, batch_size=3)\n",
    "\n",
    "batch = next(iter(tmp_dataloader))\n",
    "print(batch)\n",
    "\n",
    "preds = predict_fn(batch, model)\n",
    "print(preds)\n",
    "\n",
    "output_fn(preds)\n"
   ]
  },
  {
   "cell_type": "markdown",
   "metadata": {},
   "source": [
    "## Evaluate pipeline on test dataset"
   ]
  },
  {
   "cell_type": "code",
   "execution_count": 9,
   "metadata": {},
   "outputs": [],
   "source": [
    "def evaluate(dataloader, model):\n",
    "    batch = next(iter(dataloader))\n",
    "    labels = np.array(list(map(lambda x: LABELS[x], batch['label'])))\n",
    "    preds = output_fn(predict_fn(batch, model))\n",
    "    test_acc = np.mean(np.float32(labels == preds))\n",
    "    print(f'Test accuracy: {test_acc:.3f}')\n"
   ]
  },
  {
   "cell_type": "code",
   "execution_count": 15,
   "metadata": {},
   "outputs": [
    {
     "name": "stdout",
     "output_type": "stream",
     "text": [
      "Test accuracy: 0.769\n",
      "CPU times: user 19min 28s, sys: 1.78 s, total: 19min 30s\n",
      "Wall time: 5min 3s\n"
     ]
    }
   ],
   "source": [
    "%%time\n",
    "\n",
    "EVAL_BATCH_SIZE = dataset['test'].num_rows\n",
    "\n",
    "test_dataloader = DataLoader(dataset['test'], shuffle=False, batch_size=EVAL_BATCH_SIZE)\n",
    "\n",
    "model = model_fn()\n",
    "\n",
    "evaluate(test_dataloader, model)\n"
   ]
  }
 ],
 "metadata": {
  "kernelspec": {
   "display_name": "conda_python3",
   "language": "python",
   "name": "conda_python3"
  },
  "language_info": {
   "codemirror_mode": {
    "name": "ipython",
    "version": 3
   },
   "file_extension": ".py",
   "mimetype": "text/x-python",
   "name": "python",
   "nbconvert_exporter": "python",
   "pygments_lexer": "ipython3",
   "version": "3.6.13"
  },
  "vscode": {
   "interpreter": {
    "hash": "5517fee858da220e354b0e7f8c879a17a674f17dc1b2bfda8d8bbe6e302f27df"
   }
  }
 },
 "nbformat": 4,
 "nbformat_minor": 4
}
