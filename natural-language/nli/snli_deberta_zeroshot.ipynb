{
 "cells": [
  {
   "cell_type": "markdown",
   "metadata": {},
   "source": [
    "# RTE (Recognizing Textual Entailment) with transformers\n",
    "## Using a pretrained transformer fine-tuned on MNLI for zero-shot text classification on SNLI"
   ]
  },
  {
   "cell_type": "markdown",
   "metadata": {},
   "source": [
    "## Setup"
   ]
  },
  {
   "cell_type": "code",
   "execution_count": 26,
   "metadata": {},
   "outputs": [],
   "source": [
    "# !pip install transformers\n",
    "# !pip install torch\n",
    "# !pip install pandas"
   ]
  },
  {
   "cell_type": "code",
   "execution_count": 132,
   "metadata": {},
   "outputs": [
    {
     "name": "stdout",
     "output_type": "stream",
     "text": [
      "['ENTAILMENT', 'NEUTRAL', 'CONTRADICTION']\n"
     ]
    }
   ],
   "source": [
    "LABELS = ['ENTAILMENT', 'NEUTRAL', 'CONTRADICTION']\n",
    "print(LABELS)"
   ]
  },
  {
   "cell_type": "markdown",
   "metadata": {},
   "source": [
    "## Load and preprocess SNLI dataset"
   ]
  },
  {
   "cell_type": "code",
   "execution_count": 64,
   "metadata": {},
   "outputs": [
    {
     "name": "stderr",
     "output_type": "stream",
     "text": [
      "Reusing dataset snli (/Users/thierry.wendling/.cache/huggingface/datasets/snli/plain_text/1.0.0/1f60b67533b65ae0275561ff7828aad5ee4282d0e6f844fd148d05d3c6ea251b)\n",
      "100%|██████████| 3/3 [00:00<00:00, 489.40it/s]\n"
     ]
    },
    {
     "data": {
      "text/plain": [
       "DatasetDict({\n",
       "    test: Dataset({\n",
       "        features: ['premise', 'hypothesis', 'label'],\n",
       "        num_rows: 10000\n",
       "    })\n",
       "    train: Dataset({\n",
       "        features: ['premise', 'hypothesis', 'label'],\n",
       "        num_rows: 550152\n",
       "    })\n",
       "    validation: Dataset({\n",
       "        features: ['premise', 'hypothesis', 'label'],\n",
       "        num_rows: 10000\n",
       "    })\n",
       "})"
      ]
     },
     "execution_count": 64,
     "metadata": {},
     "output_type": "execute_result"
    }
   ],
   "source": [
    "from datasets import load_dataset\n",
    "from torch.utils.data import DataLoader\n",
    "\n",
    "\n",
    "dataset = load_dataset('snli')\n",
    "dataset\n"
   ]
  },
  {
   "cell_type": "code",
   "execution_count": 65,
   "metadata": {},
   "outputs": [
    {
     "name": "stdout",
     "output_type": "stream",
     "text": [
      "Test label distribution:\n",
      " 0    3368\n",
      " 2    3237\n",
      " 1    3219\n",
      "-1     176\n",
      "Name: label, dtype: int64\n",
      "Train label distribution:\n",
      " 0    183416\n",
      " 2    183187\n",
      " 1    182764\n",
      "-1       785\n",
      "Name: label, dtype: int64\n",
      "Validation label distribution:\n",
      " 0    3329\n",
      " 2    3278\n",
      " 1    3235\n",
      "-1     158\n",
      "Name: label, dtype: int64\n"
     ]
    }
   ],
   "source": [
    "for key in dataset.keys():\n",
    "    df = dataset[key].to_pandas()\n",
    "    print(f'{key.capitalize()} label distribution:')\n",
    "    print(df.label.value_counts())"
   ]
  },
  {
   "cell_type": "code",
   "execution_count": 66,
   "metadata": {},
   "outputs": [
    {
     "name": "stderr",
     "output_type": "stream",
     "text": [
      "Loading cached processed dataset at /Users/thierry.wendling/.cache/huggingface/datasets/snli/plain_text/1.0.0/1f60b67533b65ae0275561ff7828aad5ee4282d0e6f844fd148d05d3c6ea251b/cache-c209352940780cb9.arrow\n",
      "Loading cached processed dataset at /Users/thierry.wendling/.cache/huggingface/datasets/snli/plain_text/1.0.0/1f60b67533b65ae0275561ff7828aad5ee4282d0e6f844fd148d05d3c6ea251b/cache-bc6047459630d9e8.arrow\n",
      "Loading cached processed dataset at /Users/thierry.wendling/.cache/huggingface/datasets/snli/plain_text/1.0.0/1f60b67533b65ae0275561ff7828aad5ee4282d0e6f844fd148d05d3c6ea251b/cache-bcc43a57925b85f8.arrow\n"
     ]
    }
   ],
   "source": [
    "dataset = dataset.filter(lambda example: example['label'] != -1)"
   ]
  },
  {
   "cell_type": "markdown",
   "metadata": {},
   "source": [
    "## Build inference pipeline"
   ]
  },
  {
   "cell_type": "code",
   "execution_count": 125,
   "metadata": {},
   "outputs": [],
   "source": [
    "import numpy as np\n",
    "from transformers import AutoModelForSequenceClassification, AutoTokenizer, pipeline\n",
    "\n",
    "HUB_MODEL_CKPT = 'microsoft/deberta-base-mnli'\n",
    "\n",
    "def _pack_item(pair):\n",
    "    return f\"{pair[0]} [SEP] {pair[1]}\"\n",
    "\n",
    "def model_fn():\n",
    "    tokenizer = AutoTokenizer.from_pretrained(HUB_MODEL_CKPT)\n",
    "    model = AutoModelForSequenceClassification.from_pretrained(HUB_MODEL_CKPT)\n",
    "    return pipeline(task='text-classification', model=model, tokenizer=tokenizer)\n",
    "\n",
    "def predict_fn(items, model):\n",
    "    premise_list = items['premise']\n",
    "    hypothesis_list = items['hypothesis']\n",
    "    sentences = [_pack_item(pair) for pair in zip(premise_list, hypothesis_list)]\n",
    "    return model(sentences)\n",
    "\n",
    "def output_fn(predictions):\n",
    "    return np.array([d['label'] for d in predictions])"
   ]
  },
  {
   "cell_type": "code",
   "execution_count": 146,
   "metadata": {},
   "outputs": [],
   "source": [
    "# model = model_fn()"
   ]
  },
  {
   "cell_type": "code",
   "execution_count": 147,
   "metadata": {},
   "outputs": [],
   "source": [
    "# import random\n",
    "\n",
    "\n",
    "# item = dataset['test'].__getitem__(random.randint(0, 100))\n",
    "# item['label'] = LABELS[item['label']].upper()\n",
    "# print(item)\n",
    "\n",
    "# model(f\"{item['premise']} [SEP] {item['hypothesis']}\")\n"
   ]
  },
  {
   "cell_type": "code",
   "execution_count": 148,
   "metadata": {},
   "outputs": [],
   "source": [
    "# tmp_dataloader = DataLoader(dataset['test'], shuffle=False, batch_size=3)\n",
    "\n",
    "# batch = next(iter(tmp_dataloader))\n",
    "# print(batch)\n",
    "\n",
    "# preds = predict_fn(batch, model)\n",
    "# print(preds)\n",
    "\n",
    "# output_fn(preds)\n"
   ]
  },
  {
   "cell_type": "markdown",
   "metadata": {},
   "source": [
    "## Evaluate pipeline on test dataset"
   ]
  },
  {
   "cell_type": "code",
   "execution_count": 139,
   "metadata": {},
   "outputs": [],
   "source": [
    "def evaluate(dataloader, model):\n",
    "    batch = next(iter(dataloader))\n",
    "    labels = np.array(list(map(lambda x: LABELS[x], batch['label'])))\n",
    "    preds = output_fn(predict_fn(batch, model))\n",
    "    test_acc = np.mean(np.float32(labels == preds))\n",
    "    print(f'Test accuracy: {test_acc:.3f}')\n"
   ]
  },
  {
   "cell_type": "code",
   "execution_count": 145,
   "metadata": {},
   "outputs": [
    {
     "name": "stderr",
     "output_type": "stream",
     "text": [
      "/Users/thierry.wendling/Github/ml-examples/natural-language/nli/.venv/lib/python3.7/site-packages/transformers/models/deberta/modeling_deberta.py:679: UserWarning: To copy construct from a tensor, it is recommended to use sourceTensor.clone().detach() or sourceTensor.clone().detach().requires_grad_(True), rather than torch.tensor(sourceTensor).\n",
      "  query_layer = query_layer / torch.tensor(scale, dtype=query_layer.dtype)\n",
      "/Users/thierry.wendling/Github/ml-examples/natural-language/nli/.venv/lib/python3.7/site-packages/transformers/models/deberta/modeling_deberta.py:745: UserWarning: To copy construct from a tensor, it is recommended to use sourceTensor.clone().detach() or sourceTensor.clone().detach().requires_grad_(True), rather than torch.tensor(sourceTensor).\n",
      "  p2c_att = torch.matmul(key_layer, torch.tensor(pos_query_layer.transpose(-1, -2), dtype=key_layer.dtype))\n"
     ]
    },
    {
     "name": "stdout",
     "output_type": "stream",
     "text": [
      "Test accuracy: 0.858\n",
      "CPU times: user 45min, sys: 32.1 s, total: 45min 32s\n",
      "Wall time: 7min 42s\n"
     ]
    }
   ],
   "source": [
    "%%time\n",
    "\n",
    "EVAL_BATCH_SIZE = 100\n",
    "EVAL_BATCH_SIZE = dataset['test'].num_rows\n",
    "\n",
    "test_dataloader = DataLoader(dataset['test'], shuffle=False, batch_size=EVAL_BATCH_SIZE)\n",
    "\n",
    "model = model_fn()\n",
    "\n",
    "evaluate(test_dataloader, model)\n"
   ]
  }
 ],
 "metadata": {
  "kernelspec": {
   "display_name": "Python 3.7.13 ('.venv': venv)",
   "language": "python",
   "name": "python3"
  },
  "language_info": {
   "codemirror_mode": {
    "name": "ipython",
    "version": 3
   },
   "file_extension": ".py",
   "mimetype": "text/x-python",
   "name": "python",
   "nbconvert_exporter": "python",
   "pygments_lexer": "ipython3",
   "version": "3.7.13"
  },
  "vscode": {
   "interpreter": {
    "hash": "5517fee858da220e354b0e7f8c879a17a674f17dc1b2bfda8d8bbe6e302f27df"
   }
  }
 },
 "nbformat": 4,
 "nbformat_minor": 4
}
