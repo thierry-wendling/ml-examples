{
 "cells": [
  {
   "cell_type": "markdown",
   "metadata": {},
   "source": [
    "# RTE (Recognizing Textual Entailment) with transformers\n",
    "## Using a pretrained transformer fine-tuned on MNLI for zero-shot text classification on SNLI"
   ]
  },
  {
   "cell_type": "markdown",
   "metadata": {},
   "source": [
    "## Setup"
   ]
  },
  {
   "cell_type": "code",
   "execution_count": 2,
   "metadata": {},
   "outputs": [],
   "source": [
    "# !pip install flair torch"
   ]
  },
  {
   "cell_type": "markdown",
   "metadata": {},
   "source": [
    "## Load and preprocess SNLI dataset"
   ]
  },
  {
   "cell_type": "code",
   "execution_count": 49,
   "metadata": {},
   "outputs": [
    {
     "name": "stdout",
     "output_type": "stream",
     "text": [
      "['entailment', 'neutral', 'contradiction']\n"
     ]
    }
   ],
   "source": [
    "LABELS = ['entailment', 'neutral', 'contradiction']\n",
    "print(LABELS)"
   ]
  },
  {
   "cell_type": "code",
   "execution_count": 52,
   "metadata": {},
   "outputs": [
    {
     "name": "stderr",
     "output_type": "stream",
     "text": [
      "Reusing dataset snli (/Users/thierry.wendling/.cache/huggingface/datasets/snli/plain_text/1.0.0/1f60b67533b65ae0275561ff7828aad5ee4282d0e6f844fd148d05d3c6ea251b)\n",
      "100%|██████████| 3/3 [00:00<00:00, 496.72it/s]\n"
     ]
    },
    {
     "data": {
      "text/plain": [
       "DatasetDict({\n",
       "    test: Dataset({\n",
       "        features: ['premise', 'hypothesis', 'label'],\n",
       "        num_rows: 10000\n",
       "    })\n",
       "    train: Dataset({\n",
       "        features: ['premise', 'hypothesis', 'label'],\n",
       "        num_rows: 550152\n",
       "    })\n",
       "    validation: Dataset({\n",
       "        features: ['premise', 'hypothesis', 'label'],\n",
       "        num_rows: 10000\n",
       "    })\n",
       "})"
      ]
     },
     "execution_count": 52,
     "metadata": {},
     "output_type": "execute_result"
    }
   ],
   "source": [
    "import numpy as np\n",
    "from datasets import load_dataset\n",
    "from torch.utils.data import DataLoader\n",
    "\n",
    "\n",
    "dataset = load_dataset('snli')\n",
    "dataset\n"
   ]
  },
  {
   "cell_type": "code",
   "execution_count": 5,
   "metadata": {},
   "outputs": [
    {
     "name": "stdout",
     "output_type": "stream",
     "text": [
      "Test label distribution:\n",
      " 0    3368\n",
      " 2    3237\n",
      " 1    3219\n",
      "-1     176\n",
      "Name: label, dtype: int64\n",
      "Train label distribution:\n",
      " 0    183416\n",
      " 2    183187\n",
      " 1    182764\n",
      "-1       785\n",
      "Name: label, dtype: int64\n",
      "Validation label distribution:\n",
      " 0    3329\n",
      " 2    3278\n",
      " 1    3235\n",
      "-1     158\n",
      "Name: label, dtype: int64\n"
     ]
    }
   ],
   "source": [
    "for key in dataset.keys():\n",
    "    df = dataset[key].to_pandas()\n",
    "    print(f'{key.capitalize()} label distribution:')\n",
    "    print(df.label.value_counts())"
   ]
  },
  {
   "cell_type": "code",
   "execution_count": 6,
   "metadata": {},
   "outputs": [
    {
     "name": "stderr",
     "output_type": "stream",
     "text": [
      "Loading cached processed dataset at /Users/thierry.wendling/.cache/huggingface/datasets/snli/plain_text/1.0.0/1f60b67533b65ae0275561ff7828aad5ee4282d0e6f844fd148d05d3c6ea251b/cache-c209352940780cb9.arrow\n",
      "Loading cached processed dataset at /Users/thierry.wendling/.cache/huggingface/datasets/snli/plain_text/1.0.0/1f60b67533b65ae0275561ff7828aad5ee4282d0e6f844fd148d05d3c6ea251b/cache-bc6047459630d9e8.arrow\n",
      "Loading cached processed dataset at /Users/thierry.wendling/.cache/huggingface/datasets/snli/plain_text/1.0.0/1f60b67533b65ae0275561ff7828aad5ee4282d0e6f844fd148d05d3c6ea251b/cache-bcc43a57925b85f8.arrow\n"
     ]
    }
   ],
   "source": [
    "dataset = dataset.filter(lambda example: example['label'] != -1)"
   ]
  },
  {
   "cell_type": "markdown",
   "metadata": {},
   "source": [
    "## Explore TARS"
   ]
  },
  {
   "cell_type": "code",
   "execution_count": 72,
   "metadata": {},
   "outputs": [
    {
     "name": "stdout",
     "output_type": "stream",
     "text": [
      "{'premise': 'three bikers stop in town.', 'hypothesis': \"The bikers didn't stop in the town.\", 'label': 2}\n",
      "three bikers stop in town. three bikers stop in town.\n",
      "contradiction\n"
     ]
    }
   ],
   "source": [
    "example = dataset['train'][np.random.randint(0, 1000)]\n",
    "print(example)\n",
    "# text = f\"[CLS] {example['premise']} [SEP] {example['premise']} [SEP]\"\n",
    "text = f\"{example['premise']} {example['premise']}\"\n",
    "print(text)\n",
    "print(LABELS[example['label']])"
   ]
  },
  {
   "cell_type": "code",
   "execution_count": 73,
   "metadata": {},
   "outputs": [
    {
     "name": "stdout",
     "output_type": "stream",
     "text": [
      "Sentence: \"three bikers stop in town . three bikers stop in town .\" → neutral (0.9107)\n"
     ]
    }
   ],
   "source": [
    "from flair.models import TARSClassifier\n",
    "from flair.data import Sentence\n",
    "\n",
    "# 1. Load our pre-trained TARS model for English\n",
    "# tars = TARSClassifier.load('tars-base')\n",
    "\n",
    "# 2. Prepare a test sentence\n",
    "sentence = Sentence(text)\n",
    "\n",
    "# 3. Define some classes that you want to predict using descriptive names\n",
    "classes = LABELS\n",
    "# print(classes)\n",
    "\n",
    "#4. Predict for these classes\n",
    "tars.predict_zero_shot(sentence, classes)\n",
    "\n",
    "# Print sentence with predicted labels\n",
    "print(sentence)"
   ]
  }
 ],
 "metadata": {
  "kernelspec": {
   "display_name": "Python 3.7.13 ('.venv': venv)",
   "language": "python",
   "name": "python3"
  },
  "language_info": {
   "codemirror_mode": {
    "name": "ipython",
    "version": 3
   },
   "file_extension": ".py",
   "mimetype": "text/x-python",
   "name": "python",
   "nbconvert_exporter": "python",
   "pygments_lexer": "ipython3",
   "version": "3.7.13"
  },
  "vscode": {
   "interpreter": {
    "hash": "5517fee858da220e354b0e7f8c879a17a674f17dc1b2bfda8d8bbe6e302f27df"
   }
  }
 },
 "nbformat": 4,
 "nbformat_minor": 4
}
