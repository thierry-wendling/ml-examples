{
 "cells": [
  {
   "cell_type": "markdown",
   "metadata": {},
   "source": [
    "# RTE (Recognizing Textual Entailment) with transformers\n",
    "## Using a pretrained transformer fine-tuned on MNLI for zero-shot text classification on SNLI"
   ]
  },
  {
   "cell_type": "markdown",
   "metadata": {},
   "source": [
    "## Setup"
   ]
  },
  {
   "cell_type": "code",
   "execution_count": 8,
   "metadata": {},
   "outputs": [],
   "source": [
    "# !pip install transformers datasets\n",
    "# !pip install sentence_transformers"
   ]
  },
  {
   "cell_type": "code",
   "execution_count": 9,
   "metadata": {},
   "outputs": [
    {
     "name": "stdout",
     "output_type": "stream",
     "text": [
      "['entailment', 'neutral', 'contradiction']\n"
     ]
    }
   ],
   "source": [
    "LABELS = ['entailment', 'neutral', 'contradiction']\n",
    "print(LABELS)"
   ]
  },
  {
   "cell_type": "markdown",
   "metadata": {},
   "source": [
    "## Load and preprocess SNLI dataset"
   ]
  },
  {
   "cell_type": "code",
   "execution_count": 10,
   "metadata": {},
   "outputs": [
    {
     "name": "stderr",
     "output_type": "stream",
     "text": [
      "/opt/conda/lib/python3.7/site-packages/tqdm/auto.py:22: TqdmWarning: IProgress not found. Please update jupyter and ipywidgets. See https://ipywidgets.readthedocs.io/en/stable/user_install.html\n",
      "  from .autonotebook import tqdm as notebook_tqdm\n",
      "Downloading builder script: 100%|██████████| 3.82k/3.82k [00:00<00:00, 2.24MB/s]\n",
      "Downloading metadata: 100%|██████████| 1.90k/1.90k [00:00<00:00, 850kB/s]\n",
      "Downloading readme: 100%|██████████| 13.6k/13.6k [00:00<00:00, 6.28MB/s]\n"
     ]
    },
    {
     "name": "stdout",
     "output_type": "stream",
     "text": [
      "Downloading and preparing dataset snli/plain_text (download: 90.17 MiB, generated: 65.51 MiB, post-processed: Unknown size, total: 155.68 MiB) to /home/jupyter/.cache/huggingface/datasets/snli/plain_text/1.0.0/1f60b67533b65ae0275561ff7828aad5ee4282d0e6f844fd148d05d3c6ea251b...\n"
     ]
    },
    {
     "name": "stderr",
     "output_type": "stream",
     "text": [
      "Downloading: 100%|██████████| 1.93k/1.93k [00:00<00:00, 1.17MB/s]\n",
      "Downloading: 100%|██████████| 1.26M/1.26M [00:00<00:00, 35.6MB/s]\n",
      "Downloading: 100%|██████████| 65.9M/65.9M [00:01<00:00, 40.3MB/s]\n",
      "Downloading: 100%|██████████| 1.26M/1.26M [00:00<00:00, 35.0MB/s]\n"
     ]
    },
    {
     "name": "stdout",
     "output_type": "stream",
     "text": [
      "Dataset snli downloaded and prepared to /home/jupyter/.cache/huggingface/datasets/snli/plain_text/1.0.0/1f60b67533b65ae0275561ff7828aad5ee4282d0e6f844fd148d05d3c6ea251b. Subsequent calls will reuse this data.\n"
     ]
    },
    {
     "name": "stderr",
     "output_type": "stream",
     "text": [
      "100%|██████████| 3/3 [00:00<00:00, 22.91it/s]\n"
     ]
    },
    {
     "data": {
      "text/plain": [
       "DatasetDict({\n",
       "    test: Dataset({\n",
       "        features: ['premise', 'hypothesis', 'label'],\n",
       "        num_rows: 10000\n",
       "    })\n",
       "    train: Dataset({\n",
       "        features: ['premise', 'hypothesis', 'label'],\n",
       "        num_rows: 550152\n",
       "    })\n",
       "    validation: Dataset({\n",
       "        features: ['premise', 'hypothesis', 'label'],\n",
       "        num_rows: 10000\n",
       "    })\n",
       "})"
      ]
     },
     "execution_count": 10,
     "metadata": {},
     "output_type": "execute_result"
    }
   ],
   "source": [
    "from datasets import load_dataset\n",
    "from torch.utils.data import DataLoader\n",
    "\n",
    "\n",
    "dataset = load_dataset('snli')\n",
    "dataset\n"
   ]
  },
  {
   "cell_type": "code",
   "execution_count": 12,
   "metadata": {},
   "outputs": [
    {
     "name": "stdout",
     "output_type": "stream",
     "text": [
      "Test label distribution:\n",
      " 0    3368\n",
      " 2    3237\n",
      " 1    3219\n",
      "-1     176\n",
      "Name: label, dtype: int64\n",
      "Train label distribution:\n",
      " 0    183416\n",
      " 2    183187\n",
      " 1    182764\n",
      "-1       785\n",
      "Name: label, dtype: int64\n",
      "Validation label distribution:\n",
      " 0    3329\n",
      " 2    3278\n",
      " 1    3235\n",
      "-1     158\n",
      "Name: label, dtype: int64\n"
     ]
    }
   ],
   "source": [
    "for key in dataset.keys():\n",
    "    df = dataset[key].to_pandas()\n",
    "    print(f'{key.capitalize()} label distribution:')\n",
    "    print(df.label.value_counts())"
   ]
  },
  {
   "cell_type": "code",
   "execution_count": 13,
   "metadata": {},
   "outputs": [
    {
     "name": "stderr",
     "output_type": "stream",
     "text": [
      " 90%|█████████ | 9/10 [00:00<00:00, 26.81ba/s]\n",
      "100%|█████████▉| 550/551 [00:04<00:00, 125.10ba/s]\n",
      " 90%|█████████ | 9/10 [00:00<00:00, 111.08ba/s]\n"
     ]
    }
   ],
   "source": [
    "dataset = dataset.filter(lambda example: example['label'] != -1)"
   ]
  },
  {
   "cell_type": "markdown",
   "metadata": {},
   "source": [
    "## Build inference pipeline"
   ]
  },
  {
   "cell_type": "code",
   "execution_count": 59,
   "metadata": {},
   "outputs": [],
   "source": [
    "# import numpy as np\n",
    "# from sentence_transformers import CrossEncoder\n",
    "\n",
    "\n",
    "# def model_fn():\n",
    "#     return CrossEncoder('cross-encoder/nli-distilroberta-base')\n",
    "\n",
    "# def predict_fn(batch, model):\n",
    "#     tuples = [(p, h) for p, h in zip(batch['premise'], batch['hypothesis'])]\n",
    "#     model = CrossEncoder('cross-encoder/nli-distilroberta-base')\n",
    "#     return model.predict(tuples).argmax(axis=1)\n",
    "\n",
    "# def output_fn(preds):\n",
    "#     label_mapping = ['contradiction', 'entailment', 'neutral']\n",
    "#     labels = [label_mapping[score_max].upper() for score_max in preds]\n",
    "#     return np.array(labels)"
   ]
  },
  {
   "cell_type": "code",
   "execution_count": 30,
   "metadata": {},
   "outputs": [
    {
     "name": "stdout",
     "output_type": "stream",
     "text": [
      "['ENTAILMENT', 'NEUTRAL', 'CONTRADICTION']\n"
     ]
    }
   ],
   "source": [
    "import numpy as np\n",
    "from transformers import AutoModelForSequenceClassification, AutoTokenizer, pipeline\n",
    "\n",
    "HUB_MODEL_CKPT = 'microsoft/deberta-base-mnli'\n",
    "LABELS = list(map(lambda x: x.upper(), LABELS))\n",
    "# HUB_MODEL_CKPT = 'huggingface/distilbert-base-uncased-finetuned-mnli'\n",
    "              \n",
    "print(LABELS)\n",
    "\n",
    "def _pack_item(pair):\n",
    "    return f\"{pair[0]} [SEP] {pair[1]}\"\n",
    "\n",
    "def model_fn():\n",
    "    tokenizer = AutoTokenizer.from_pretrained(HUB_MODEL_CKPT)\n",
    "    model = AutoModelForSequenceClassification.from_pretrained(HUB_MODEL_CKPT)\n",
    "    return pipeline(task='text-classification', model=model, tokenizer=tokenizer)\n",
    "\n",
    "def predict_fn(batch, model):\n",
    "    premise_list = batch['premise']\n",
    "    hypothesis_list = batch['hypothesis']\n",
    "    sentences = [_pack_item(pair) for pair in zip(premise_list, hypothesis_list)]\n",
    "    return model(sentences)\n",
    "\n",
    "def output_fn(preds):\n",
    "    return np.array([d['label'] for d in preds])"
   ]
  },
  {
   "cell_type": "code",
   "execution_count": 31,
   "metadata": {},
   "outputs": [
    {
     "name": "stderr",
     "output_type": "stream",
     "text": [
      "Some weights of the model checkpoint at microsoft/deberta-base-mnli were not used when initializing DebertaForSequenceClassification: ['config']\n",
      "- This IS expected if you are initializing DebertaForSequenceClassification from the checkpoint of a model trained on another task or with another architecture (e.g. initializing a BertForSequenceClassification model from a BertForPreTraining model).\n",
      "- This IS NOT expected if you are initializing DebertaForSequenceClassification from the checkpoint of a model that you expect to be exactly identical (initializing a BertForSequenceClassification model from a BertForSequenceClassification model).\n"
     ]
    }
   ],
   "source": [
    "model = model_fn()"
   ]
  },
  {
   "cell_type": "code",
   "execution_count": 32,
   "metadata": {},
   "outputs": [
    {
     "name": "stdout",
     "output_type": "stream",
     "text": [
      "{'premise': 'A woman wearing a ball cap squats down to touch the cracked earth.', 'hypothesis': 'A squatting woman wearing a hat touching the ground.', 'label': 'ENTAILMENT'}\n"
     ]
    },
    {
     "data": {
      "text/plain": [
       "[{'label': 'CONTRADICTION', 'score': 0.7868318557739258}]"
      ]
     },
     "execution_count": 32,
     "metadata": {},
     "output_type": "execute_result"
    }
   ],
   "source": [
    "import random\n",
    "\n",
    "\n",
    "item = dataset['test'].__getitem__(random.randint(0, 100))\n",
    "item['label'] = LABELS[item['label']].upper()\n",
    "print(item)\n",
    "\n",
    "model(f\"{item['premise']} [SEP] {item['hypothesis']}\")\n"
   ]
  },
  {
   "cell_type": "code",
   "execution_count": 33,
   "metadata": {},
   "outputs": [
    {
     "name": "stdout",
     "output_type": "stream",
     "text": [
      "{'premise': ['This church choir sings to the masses as they sing joyous songs from the book at a church.', 'This church choir sings to the masses as they sing joyous songs from the book at a church.', 'This church choir sings to the masses as they sing joyous songs from the book at a church.'], 'hypothesis': ['The church has cracks in the ceiling.', 'The church is filled with song.', 'A choir singing at a baseball game.'], 'label': tensor([1, 0, 2])}\n",
      "[{'label': 'NEUTRAL', 'score': 0.8230648040771484}, {'label': 'ENTAILMENT', 'score': 0.618152916431427}, {'label': 'CONTRADICTION', 'score': 0.997092604637146}]\n"
     ]
    },
    {
     "data": {
      "text/plain": [
       "array(['NEUTRAL', 'ENTAILMENT', 'CONTRADICTION'], dtype='<U13')"
      ]
     },
     "execution_count": 33,
     "metadata": {},
     "output_type": "execute_result"
    }
   ],
   "source": [
    "tmp_dataloader = DataLoader(dataset['test'], shuffle=False, batch_size=3)\n",
    "\n",
    "batch = next(iter(tmp_dataloader))\n",
    "print(batch)\n",
    "\n",
    "preds = predict_fn(batch, model)\n",
    "print(preds)\n",
    "\n",
    "output_fn(preds)\n"
   ]
  },
  {
   "cell_type": "markdown",
   "metadata": {},
   "source": [
    "## Evaluate pipeline on test dataset"
   ]
  },
  {
   "cell_type": "code",
   "execution_count": 34,
   "metadata": {},
   "outputs": [],
   "source": [
    "def evaluate(dataloader, model):\n",
    "    batch = next(iter(dataloader))\n",
    "    labels = np.array(list(map(lambda x: LABELS[x], batch['label'])))\n",
    "    preds = output_fn(predict_fn(batch, model))\n",
    "    test_acc = np.mean(np.float32(labels == preds))\n",
    "    print(f'Test accuracy: {test_acc:.3f}')\n"
   ]
  },
  {
   "cell_type": "code",
   "execution_count": 36,
   "metadata": {},
   "outputs": [
    {
     "name": "stderr",
     "output_type": "stream",
     "text": [
      "Some weights of the model checkpoint at microsoft/deberta-base-mnli were not used when initializing DebertaForSequenceClassification: ['config']\n",
      "- This IS expected if you are initializing DebertaForSequenceClassification from the checkpoint of a model trained on another task or with another architecture (e.g. initializing a BertForSequenceClassification model from a BertForPreTraining model).\n",
      "- This IS NOT expected if you are initializing DebertaForSequenceClassification from the checkpoint of a model that you expect to be exactly identical (initializing a BertForSequenceClassification model from a BertForSequenceClassification model).\n"
     ]
    },
    {
     "name": "stdout",
     "output_type": "stream",
     "text": [
      "Test accuracy: 0.838\n",
      "CPU times: user 3min 5s, sys: 4.04 s, total: 3min 9s\n",
      "Wall time: 1min 37s\n"
     ]
    }
   ],
   "source": [
    "%%time\n",
    "\n",
    "EVAL_BATCH_SIZE = 1000\n",
    "# EVAL_BATCH_SIZE = dataset['test'].num_rows\n",
    "\n",
    "test_dataloader = DataLoader(dataset['test'], shuffle=False, batch_size=EVAL_BATCH_SIZE)\n",
    "\n",
    "model = model_fn()\n",
    "\n",
    "evaluate(test_dataloader, model)\n"
   ]
  }
 ],
 "metadata": {
  "kernelspec": {
   "display_name": "Pytorch (Local)",
   "language": "python",
   "name": "local-pytorch"
  },
  "language_info": {
   "codemirror_mode": {
    "name": "ipython",
    "version": 3
   },
   "file_extension": ".py",
   "mimetype": "text/x-python",
   "name": "python",
   "nbconvert_exporter": "python",
   "pygments_lexer": "ipython3",
   "version": "3.7.12"
  },
  "vscode": {
   "interpreter": {
    "hash": "5517fee858da220e354b0e7f8c879a17a674f17dc1b2bfda8d8bbe6e302f27df"
   }
  }
 },
 "nbformat": 4,
 "nbformat_minor": 4
}
